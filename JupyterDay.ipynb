{
 "cells": [
  {
   "cell_type": "markdown",
   "metadata": {
    "slideshow": {
     "slide_type": "slide"
    }
   },
   "source": [
    "<h1>JupyterDay</h1>\n",
    "\n",
    "<h2>Changing Education with Jupyter</h2>\n",
    "\n",
    "<h3>Douglas Blank, Bryn Mawr College</h3>"
   ]
  },
  {
   "cell_type": "markdown",
   "metadata": {
    "slideshow": {
     "slide_type": "fragment"
    }
   },
   "source": [
    "Have been working on languages, programming, environments, and education with colleagues for 20 years. \n",
    "\n",
    "* Laura Blankenship, The Baldwin School (K-12)\n",
    "* Keith O'Hara, Bard College\n",
    "* Jennie Kay, Rowan University\n",
    "* Jim Marshall, Sarah Lawrence College\n",
    "* Mark Russo, The College of New Jersey\n",
    "* Steven Silvester (aka blink1073), Continuum Analytics"
   ]
  },
  {
   "cell_type": "markdown",
   "metadata": {
    "slideshow": {
     "slide_type": "slide"
    }
   },
   "source": [
    "# Table of Contents\n",
    "* [1. @dougblank](#1.-@dougblank)\n",
    "* [2. O Jupyter, why do I love thee?](#2.-O-Jupyter,-why-do-I-love-thee?)\n",
    "* [3. Calico, 2006 - 2014](#3.-Calico,-2006---2014)\n",
    "* [4. ICalico, 2014](#4.-ICalico,-2014)\n",
    "* [5. Calysto, 2014 - future](#5.-Calysto,-2014---future)\n",
    "\t* [5.1 Jupyter-based Courses](#5.1-Jupyter-based-Courses)\n",
    "\t* [5.2 Development](#5.2-Development)\n",
    "* [6. Notebook Extensions](#6.-Notebook-Extensions)\n",
    "* [7. Languages](#7.-Languages)\n",
    "* [8. MetaKernel](#8.-MetaKernel)\n",
    "\t* [8.1 Parallel Computation](#8.1-Parallel-Computation)\n",
    "\t* [8.2 Language Interop](#8.2-Language-Interop)\n",
    "* [9. Libraries](#9.-Libraries)\n",
    "* [10. Customizations](#10.-Customizations)\n",
    "* [11. Challenges](#11.-Challenges)\n"
   ]
  },
  {
   "cell_type": "markdown",
   "metadata": {
    "slideshow": {
     "slide_type": "slide"
    }
   },
   "source": [
    "# 1. @dougblank"
   ]
  },
  {
   "cell_type": "markdown",
   "metadata": {},
   "source": [
    "* BA, Anthropology; PhD in Cognitive Science and Computer Science (Indiana University)\n",
    "* Thesis: Neural Network that learns to make Analogies\n",
    "* Developmental Robotics\n",
    "* Robots + Python + Learning for Undergraduate Research"
   ]
  },
  {
   "cell_type": "markdown",
   "metadata": {
    "slideshow": {
     "slide_type": "slide"
    }
   },
   "source": [
    "# 2. O Jupyter, why do I love thee?"
   ]
  },
  {
   "cell_type": "markdown",
   "metadata": {},
   "source": [
    "1. Focus on the narrative, storytelling aspects of computing\n",
    "  * Connects CS, STEM, Digital Humanities, well, all of humanity\n",
    "  * Puts Computing on par with Reading, 'Riting, and 'Rithmetic\n",
    "1. Standard interface for all languages\n",
    "  * One less problem, for students and educators\n",
    "  * Makes it easy to switch or include\n",
    "1. Ability to micro-manage environment (libraries, languages, functionality)\n",
    "1. Allows \"Zero Day Exploit\" - in-class computing on 1st day\n",
    "  * Lessens anxiety before actual coding\n",
    "  * No installation... big deal in K-12"
   ]
  },
  {
   "cell_type": "markdown",
   "metadata": {
    "slideshow": {
     "slide_type": "slide"
    }
   },
   "source": [
    "# 3. Calico, 2006 - 2014"
   ]
  },
  {
   "cell_type": "markdown",
   "metadata": {},
   "source": [
    "* Robots for Introduction to Computing, Bryn Mawr College and GATech\n",
    "* Write a library once; use by many languages\n",
    "* IDE, languages, and libraries written in Gtk and Mono/.NET\n",
    "* Python, Jigsaw, Scheme, Ruby, Basic, Logo, Java, F#, Boo, etc.\n",
    "  * IKVM - use JVM in .NET/Mono (CLR)\n",
    "  * Java interpreter, written in Java, run in CLR\n",
    "  * Scheme written in Scheme, translated into C#\n",
    "  * Robot OS (ROS) built in - drones, humanoids, or Scribblers\n",
    "  * Used by many schools and groups (such as Girls who Code in NYC)\n",
    "  \n",
    "<img src=\"http://calicoproject.org/wiki/images/6/6b/CalicoWindow.gif\" width=\"600\"/>\n",
    "\n",
    "<img src=\"http://calicoproject.org/wiki/images/e/e4/Scrib2.jpg\" width=\"600\"/>"
   ]
  },
  {
   "cell_type": "markdown",
   "metadata": {
    "slideshow": {
     "slide_type": "slide"
    }
   },
   "source": [
    "# 4. ICalico, 2014"
   ]
  },
  {
   "cell_type": "markdown",
   "metadata": {},
   "source": [
    "* Turned Calico into a IPython kernel (backend), written in C#\n",
    "* Implemented widgets before I ever used one\n",
    "* Problems:\n",
    "  * No numpy, matplotlib, nor any of the \"batteries included\"\n",
    "  * No magics; had to re-implement\n",
    "  * Too hard!\n",
    "* But I loved the notebook experience... but why?"
   ]
  },
  {
   "cell_type": "markdown",
   "metadata": {
    "slideshow": {
     "slide_type": "fragment"
    }
   },
   "source": [
    "...So we decided to re-implement many of our ideas, but in Python rather than in the CLR"
   ]
  },
  {
   "cell_type": "markdown",
   "metadata": {
    "slideshow": {
     "slide_type": "slide"
    }
   },
   "source": [
    "# 5. Calysto, 2014 - future"
   ]
  },
  {
   "cell_type": "markdown",
   "metadata": {
    "slideshow": {
     "slide_type": "subslide"
    }
   },
   "source": [
    "## 5.1 Jupyter-based Courses"
   ]
  },
  {
   "cell_type": "markdown",
   "metadata": {},
   "source": [
    "* Programming Languages, in Scheme (Fall 2014)\n",
    "* Intensive Writing (Fall, 2014)\n",
    "* Introduction to Computing, in Processing (Fall 2014, Fall 2015)\n",
    "* Computational Methods (Physics), in Python (Spring 2015)\n",
    "* Computer Organization, in Machine code and Assembly Language (Fall 2015)\n",
    "* Computer Science through Biology, in Python (Spring 2016)\n",
    "* Data Structures, in Java9/JShell (Spring 2016)"
   ]
  },
  {
   "cell_type": "markdown",
   "metadata": {
    "slideshow": {
     "slide_type": "subslide"
    }
   },
   "source": [
    "## 5.2 Development"
   ]
  },
  {
   "cell_type": "markdown",
   "metadata": {},
   "source": [
    "* Notebook Extensions\n",
    "* Languages\n",
    "* Libraries\n",
    "* Customizations"
   ]
  },
  {
   "cell_type": "markdown",
   "metadata": {
    "slideshow": {
     "slide_type": "slide"
    }
   },
   "source": [
    "# 6. Notebook Extensions"
   ]
  },
  {
   "cell_type": "markdown",
   "metadata": {},
   "source": [
    "<img src=\"images/nbextensions.png\" width=\"500\"/>\n",
    "\n",
    "* Publish\n",
    "* Submit\n",
    "* Spelling Checker\n",
    "* Move Section Up/Down\n",
    "* Number Sections\n",
    "* Table of Contents\n",
    "* Generate References\n",
    "* Tabbed In/Out\n",
    "* Two-column In/Out"
   ]
  },
  {
   "cell_type": "markdown",
   "metadata": {
    "slideshow": {
     "slide_type": "slide"
    }
   },
   "source": [
    "# 7. Languages"
   ]
  },
  {
   "cell_type": "markdown",
   "metadata": {},
   "source": [
    "* Chatbot, Prolog, Xonsh, Skulpt\n",
    "* Scheme, converted to Python; with GUI stepper and breakpoints\n",
    "* Processing; Java converted to JavaScript, function stepper\n",
    "* Assembly Language; Python interpreter\n",
    "* Jigsaw (Blockly-based) for Java and Python\n",
    "* Java9, via JShell\n",
    "* Ladybug, rule-based agent control language"
   ]
  },
  {
   "cell_type": "markdown",
   "metadata": {
    "slideshow": {
     "slide_type": "slide"
    }
   },
   "source": [
    "# 8. MetaKernel"
   ]
  },
  {
   "cell_type": "markdown",
   "metadata": {},
   "source": [
    "Gives other kernels some of the magic that IPython has. Uses \"wrapper kernel\" Python infrastructure, even for non-Python-based languages. Now available for IPython, too!\n",
    "\n",
    "* Shell\n",
    "* Magics\n",
    "  * Separated from language; language independent\n",
    "  * download, run, macro, load, edit, \n",
    "  * Integration with other languages\n",
    "  * Parallel processing\n",
    "* Completion, Help, etc.\n",
    "\n",
    "Used with Octave, Matlab, Scheme, Prolog, Processing, Java9, ROOT, Gentoo Science Bash, Cling, etc."
   ]
  },
  {
   "cell_type": "markdown",
   "metadata": {
    "slideshow": {
     "slide_type": "slide"
    }
   },
   "source": [
    "## 8.1 Parallel Computation"
   ]
  },
  {
   "cell_type": "code",
   "execution_count": 1,
   "metadata": {
    "collapsed": false,
    "slideshow": {
     "slide_type": "fragment"
    }
   },
   "outputs": [],
   "source": [
    "%parallel javakernel.kernel JavaKernel"
   ]
  },
  {
   "cell_type": "code",
   "execution_count": 2,
   "metadata": {
    "collapsed": false,
    "slideshow": {
     "slide_type": "fragment"
    }
   },
   "outputs": [
    {
     "data": {
      "text/plain": [
       "[20, 22, 13, 85, 99]"
      ]
     },
     "execution_count": 2,
     "metadata": {},
     "output_type": "execute_result"
    }
   ],
   "source": [
    "%%px \n",
    "\n",
    "import java.util.Random;\n",
    "Random randomGenerator = new Random();\n",
    "randomGenerator.nextInt(100);"
   ]
  },
  {
   "cell_type": "markdown",
   "metadata": {},
   "source": [
    "## 8.2 Language Interop"
   ]
  },
  {
   "cell_type": "code",
   "execution_count": 3,
   "metadata": {
    "collapsed": false,
    "slideshow": {
     "slide_type": "slide"
    }
   },
   "outputs": [
    {
     "data": {
      "text/html": [
       "\n",
       "<canvas id=\"canvas_1\"></canvas>\n",
       "<script>\n",
       "require([window.location.protocol + \"//calysto.github.io/javascripts/processing/processing.js\"], function () {\n",
       "    var processingCode = '\\nvoid draw() {\\n    rect(mouseX, mouseY, 10, 10);\\n}';\n",
       "    var cc = Processing.compile(processingCode);\n",
       "    var processingInstance = new Processing(\"canvas_1\", cc);\n",
       "});\n",
       "</script>\n"
      ],
      "text/plain": [
       "<IPython.core.display.HTML object>"
      ]
     },
     "metadata": {},
     "output_type": "display_data"
    }
   ],
   "source": [
    "%%processing\n",
    "\n",
    "void draw() {\n",
    "    rect(mouseX, mouseY, 10, 10);\n",
    "}"
   ]
  },
  {
   "cell_type": "markdown",
   "metadata": {
    "slideshow": {
     "slide_type": "slide"
    }
   },
   "source": [
    "# 9. Libraries"
   ]
  },
  {
   "cell_type": "markdown",
   "metadata": {},
   "source": [
    "* Calysto\n",
    "  * calytso.graphics - SVG, Processing, with pixel access too\n",
    "  * calytso.zgraphics - Zelle's \"Programming Python\" graphical library API\n",
    "  * calysto.simulation - for Agent Based Modeling\n",
    "  * calysto.ai - neural networks, genetic algorithms, etc.\n",
    "* jyro - robots"
   ]
  },
  {
   "cell_type": "markdown",
   "metadata": {
    "slideshow": {
     "slide_type": "slide"
    }
   },
   "source": [
    "# 10. Customizations"
   ]
  },
  {
   "cell_type": "markdown",
   "metadata": {},
   "source": [
    "* Audience Participation System (clickers)\n",
    "* Simulation\n",
    "* Python Online Tutor - for Java and Python"
   ]
  },
  {
   "cell_type": "markdown",
   "metadata": {
    "slideshow": {
     "slide_type": "slide"
    }
   },
   "source": [
    "# 11. Challenges"
   ]
  },
  {
   "cell_type": "markdown",
   "metadata": {},
   "source": [
    "* Some fellow CS educators hate Jupyter as an IDE\n",
    "* Overheard: \"Jupyter is too convenient\" for the student"
   ]
  }
 ],
 "metadata": {
  "celltoolbar": "Slideshow",
  "kernelspec": {
   "display_name": "Java 9",
   "language": "java",
   "name": "java"
  },
  "language_info": {
   "file_extension": ".class",
   "mimetype": "application/java-vm",
   "name": "java"
  }
 },
 "nbformat": 4,
 "nbformat_minor": 0
}
