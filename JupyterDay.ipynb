{
 "cells": [
  {
   "cell_type": "markdown",
   "metadata": {
    "slideshow": {
     "slide_type": "slide"
    }
   },
   "source": [
    "<h1>JupyterDay</h1>\n",
    "<h2>Changing Education with Jupyter</h2>\n",
    "<h3>Douglas Blank, Bryn Mawr College</h3>\n",
    "\n",
    "<a href=\"http://goo.gl/dChuXY\">goo.gl/dChuXY</a>\n"
   ]
  },
  {
   "cell_type": "markdown",
   "metadata": {
    "slideshow": {
     "slide_type": "subslide"
    }
   },
   "source": [
    "With colleagues, have been working on languages, programming, environments, and education for 20 years. \n",
    "\n",
    "* Laura Blankenship, The Baldwin School (K-12)\n",
    "* Keith O'Hara, Bard College\n",
    "* Jennie Kay, Rowan University\n",
    "* Jim Marshall, Sarah Lawrence College\n",
    "* Mark Russo, The College of New Jersey\n",
    "* Steven Silvester (aka blink1073), Continuum Analytics"
   ]
  },
  {
   "cell_type": "markdown",
   "metadata": {
    "slideshow": {
     "slide_type": "slide"
    }
   },
   "source": [
    "# Table of Contents\n",
    "* [1. @dougblank](#1.-@dougblank)\n",
    "* [2. O Jupyter, why do I love thee?](#2.-O-Jupyter,-why-do-I-love-thee?)\n",
    "* [3. Calico, 2006 - 2014](#3.-Calico,-2006---2014)\n",
    "* [4. ICalico, 2014](#4.-ICalico,-2014)\n",
    "* [5. Calysto, 2014 - future](#5.-Calysto,-2014---future)\n",
    "\t* [5.1 Jupyter-based Courses](#5.1-Jupyter-based-Courses)\n",
    "\t* [5.2 Development](#5.2-Development)\n",
    "* [6. Notebook Extensions](#6.-Notebook-Extensions)\n",
    "* [7. Languages (aka Kernels)](#7.-Languages-%28aka-Kernels%29)\n",
    "\t* [7.1 Processing](#7.1-Processing)\n",
    "\t* [7.2 Scheme](#7.2-Scheme)\n",
    "\t* [7.3 Four-in-One Demo](#7.3-Four-in-One-Demo)\n",
    "\t* [Other languages](#Other-languages)\n",
    "* [8. MetaKernel](#8.-MetaKernel)\n",
    "\t* [8.1 Parallel Computation](#8.1-Parallel-Computation)\n",
    "\t* [8.2 Language Interop](#8.2-Language-Interop)\n",
    "* [9. Libraries](#9.-Libraries)\n",
    "* [10. Customizations](#10.-Customizations)\n",
    "* [11. Challenges](#11.-Challenges)\n"
   ]
  },
  {
   "cell_type": "markdown",
   "metadata": {
    "slideshow": {
     "slide_type": "slide"
    }
   },
   "source": [
    "# 1. @dougblank"
   ]
  },
  {
   "cell_type": "markdown",
   "metadata": {
    "slideshow": {
     "slide_type": "fragment"
    }
   },
   "source": [
    "* BA, Anthropology; PhD in Cognitive Science and Computer Science (Indiana University)\n",
    "* Thesis: Neural Network that learns to make Analogies\n",
    "* Developmental Robotics: Grow a Mind\n",
    "* Robots + Python + Learning for Undergraduate Research"
   ]
  },
  {
   "cell_type": "markdown",
   "metadata": {
    "slideshow": {
     "slide_type": "slide"
    }
   },
   "source": [
    "# 2. O Jupyter, why do I love thee?"
   ]
  },
  {
   "cell_type": "markdown",
   "metadata": {
    "slideshow": {
     "slide_type": "fragment"
    }
   },
   "source": [
    "1. Focus on the narrative, storytelling aspects of computing\n",
    "  * Connects CS, STEM, Digital Humanities, well, all of humanity\n",
    "  * Puts Computing on par with Reading, 'Riting, and 'Rithmetic\n",
    "  * I tell stories (lectures and labs); they tell stories (homework)\n",
    "1. Standard interface for all languages\n",
    "  * One less problem, for students and educators\n",
    "  * Makes it easy to switch or include\n",
    "1. Ability to micro-manage environment (libraries, languages, functionality)\n",
    "1. Allows \"Zero Day Exploit\" - in-class computing on 1st day\n",
    "  * Lessens anxiety before actual coding\n",
    "  * No installation... big deal in K-12\n",
    "1. Allows students to share work with friends, family, and beyond (ePortfolio)"
   ]
  },
  {
   "cell_type": "markdown",
   "metadata": {
    "slideshow": {
     "slide_type": "slide"
    }
   },
   "source": [
    "# 3. Calico, 2006 - 2014"
   ]
  },
  {
   "cell_type": "markdown",
   "metadata": {
    "slideshow": {
     "slide_type": "fragment"
    }
   },
   "source": [
    "In 2006, my life took a detour when we (GATech and Bryn Mawr College) received a $2M grant to explore teaching introductory CS with robots."
   ]
  },
  {
   "cell_type": "markdown",
   "metadata": {
    "slideshow": {
     "slide_type": "subslide"
    }
   },
   "source": [
    "GATech developed the hardware:\n",
    "\n",
    "<img src=\"http://calicoproject.org/wiki/images/e/e4/Scrib2.jpg\" width=\"600\"/>"
   ]
  },
  {
   "cell_type": "markdown",
   "metadata": {
    "slideshow": {
     "slide_type": "subslide"
    }
   },
   "source": [
    "Bryn Mawr College developed the software:\n",
    "\n",
    "* Write a library once; use by many languages\n",
    "* IDE, languages, and libraries written in Gtk and Mono/.NET\n",
    "* Python, Jigsaw, Scheme, Ruby, Basic, Logo, Java, F#, Boo, etc.\n",
    "  * Jigsaw - Block language in Gtk, reads .DLLs\n",
    "  * IKVM - use JVM in .NET/Mono (CLR)\n",
    "  * Java interpreter, written in Java, run in CLR\n",
    "  * Scheme written in Scheme, translated into C#\n",
    "  * Robot OS (ROS) built in - drones, humanoids, or Scribblers\n",
    "  * Used by many schools and groups (such as Girls who Code in NYC)"
   ]
  },
  {
   "cell_type": "markdown",
   "metadata": {
    "slideshow": {
     "slide_type": "subslide"
    }
   },
   "source": [
    "<img src=\"http://calicoproject.org/wiki/images/6/6b/CalicoWindow.gif\" width=\"600\"/>\n",
    "\n",
    "Similar in spirit to the ideas behind Jupyter: one interface, multiple languages."
   ]
  },
  {
   "cell_type": "markdown",
   "metadata": {
    "slideshow": {
     "slide_type": "slide"
    }
   },
   "source": [
    "# 4. ICalico, 2014"
   ]
  },
  {
   "cell_type": "markdown",
   "metadata": {
    "slideshow": {
     "slide_type": "fragment"
    }
   },
   "source": [
    "* Turned Calico into a IPython kernel (backend), written in C#\n",
    "* Implemented widgets before I ever used one\n",
    "* Problems:\n",
    "  * No numpy, matplotlib, nor any of the \"included batteries\"\n",
    "  * No \"magics\" (metacommands); had to re-implement, re-imagine\n",
    "  * Too hard!"
   ]
  },
  {
   "cell_type": "markdown",
   "metadata": {
    "slideshow": {
     "slide_type": "fragment"
    }
   },
   "source": [
    "...So we decided to re-implement many of our ideas, but in Python rather than in the CLR."
   ]
  },
  {
   "cell_type": "markdown",
   "metadata": {
    "slideshow": {
     "slide_type": "slide"
    }
   },
   "source": [
    "# 5. Calysto, 2014 - future"
   ]
  },
  {
   "cell_type": "markdown",
   "metadata": {
    "slideshow": {
     "slide_type": "subslide"
    }
   },
   "source": [
    "## 5.1 Jupyter-based Courses"
   ]
  },
  {
   "cell_type": "markdown",
   "metadata": {
    "slideshow": {
     "slide_type": "fragment"
    }
   },
   "source": [
    "* Programming Languages, in Scheme (Fall 2014)\n",
    "* Intensive Writing (Fall, 2014)\n",
    "* Introduction to Computing, in Processing (Fall 2014, Fall 2015)\n",
    "* Computational Methods (Physics), in Python (Spring 2015)\n",
    "* Computer Organization, in Machine code and Assembly Language (Fall 2015)\n",
    "* Computer Science through Biology, in Python (Spring 2016)\n",
    "* Data Structures, in Java9/JShell (Spring 2016)"
   ]
  },
  {
   "cell_type": "markdown",
   "metadata": {
    "slideshow": {
     "slide_type": "subslide"
    }
   },
   "source": [
    "## 5.2 Development"
   ]
  },
  {
   "cell_type": "markdown",
   "metadata": {
    "slideshow": {
     "slide_type": "fragment"
    }
   },
   "source": [
    "* Notebook Extensions\n",
    "* Languages\n",
    "* Libraries\n",
    "* Customizations"
   ]
  },
  {
   "cell_type": "markdown",
   "metadata": {
    "slideshow": {
     "slide_type": "slide"
    }
   },
   "source": [
    "# 6. Notebook Extensions"
   ]
  },
  {
   "cell_type": "markdown",
   "metadata": {
    "slideshow": {
     "slide_type": "fragment"
    }
   },
   "source": [
    "<img src=\"images/nbextensions.png\" width=\"500\"/>\n",
    "\n",
    "* Publish\n",
    "* Submit\n",
    "* Spelling Checker\n",
    "* Move Section Up/Down\n",
    "* Number Sections\n",
    "* Table of Contents\n",
    "* Generate References\n",
    "* Tabbed In/Out\n",
    "* Two-column In/Out"
   ]
  },
  {
   "cell_type": "markdown",
   "metadata": {
    "slideshow": {
     "slide_type": "slide"
    }
   },
   "source": [
    "# 7. Languages (aka Kernels)"
   ]
  },
  {
   "cell_type": "markdown",
   "metadata": {
    "slideshow": {
     "slide_type": "fragment"
    }
   },
   "source": [
    "* Chatbot, Prolog, Skulpt\n",
    "* Scheme, converted to Python; with GUI stepper and breakpoints\n",
    "* Processing; Java converted to JavaScript, function stepper\n",
    "* Assembly Language; Python interpreter\n",
    "* Jigsaw (Blockly-based) for Java and Python\n",
    "* Java9, via JShell\n",
    "* Ladybug, rule-based agent control language"
   ]
  },
  {
   "cell_type": "markdown",
   "metadata": {
    "slideshow": {
     "slide_type": "subslide"
    }
   },
   "source": [
    "## 7.1 Processing"
   ]
  },
  {
   "cell_type": "markdown",
   "metadata": {},
   "source": [
    "1. Each cell is a sketch\n",
    "1. Sent to Java compiler to catch errors\n",
    "1. If ok, converted to JavaScript\n",
    "1. Runs in browser\n",
    "1. Full suite of \"magics\"\n",
    "\n",
    "<a href=\"notebooks/Processing Clock.ipynb\">Processing Notebook</a>\n",
    "\n",
    "* Introduction to Computing at Bryn Mawr College\n",
    "* Students write code within the first 30 minutes of first class"
   ]
  },
  {
   "cell_type": "markdown",
   "metadata": {
    "slideshow": {
     "slide_type": "subslide"
    }
   },
   "source": [
    "## 7.2 Scheme"
   ]
  },
  {
   "cell_type": "markdown",
   "metadata": {},
   "source": [
    "<img src=\"images/scheme-stepper.png\"/>"
   ]
  },
  {
   "cell_type": "markdown",
   "metadata": {
    "slideshow": {
     "slide_type": "subslide"
    }
   },
   "source": [
    "## 7.3 Four-in-One Demo"
   ]
  },
  {
   "cell_type": "markdown",
   "metadata": {},
   "source": [
    "This is a Java9 kernel, running a Python magic, demonstrating the Scheme debugger as a Youtube video, as displayed by the calysto library:"
   ]
  },
  {
   "cell_type": "code",
   "execution_count": 9,
   "metadata": {
    "collapsed": false,
    "slideshow": {
     "slide_type": "subslide"
    }
   },
   "outputs": [
    {
     "data": {
      "text/html": [
       "\n",
       "        <iframe\n",
       "            width=\"400\"\n",
       "            height=\"300\"\n",
       "            src=\"https://www.youtube.com/embed/2w-iO701g_w\"\n",
       "            frameborder=\"0\"\n",
       "            allowfullscreen\n",
       "        ></iframe>\n",
       "        "
      ],
      "text/plain": [
       "<IPython.lib.display.YouTubeVideo object at 0x7f2039066978>"
      ]
     },
     "metadata": {},
     "output_type": "display_data"
    }
   ],
   "source": [
    "%%python\n",
    "\n",
    "from calysto.display import YouTubeVideo, display\n",
    "display(YouTubeVideo(\"2w-iO701g_w\"))"
   ]
  },
  {
   "cell_type": "markdown",
   "metadata": {
    "slideshow": {
     "slide_type": "subslide"
    }
   },
   "source": [
    "## Other languages"
   ]
  },
  {
   "cell_type": "markdown",
   "metadata": {},
   "source": [
    "* <a href=\"notebooks/Jigsaw for Python.ipynb\">Jigsaw for Python</a>\n",
    "* <a href=\"notebooks/Jigsaw for Processing.ipynb\">Jigsaw for Processing</a>\n",
    "* <a href=\"notebooks/Assembly Language.ipynb\">Assembly Language</a>"
   ]
  },
  {
   "cell_type": "markdown",
   "metadata": {
    "slideshow": {
     "slide_type": "slide"
    }
   },
   "source": [
    "# 8. MetaKernel"
   ]
  },
  {
   "cell_type": "markdown",
   "metadata": {},
   "source": [
    "Gives other kernels some of the magic that IPython has. Uses \"wrapper kernel\" Python infrastructure, even for non-Python-based languages. MetaKernel Magics now available for IPython, too!\n",
    "\n",
    "* Shell\n",
    "* Magics\n",
    "  * Separated from language; language independent\n",
    "  * download, run, macro, load, edit, \n",
    "  * Integration with other languages\n",
    "  * Parallel processing\n",
    "* Widgets, and rich display\n",
    "* Completion, Help, etc.\n",
    "\n",
    "Used with Octave, Matlab, Scheme, Prolog, Processing, Java9, Xonsh, ROOT, Gentoo Science Bash, Cling, etc."
   ]
  },
  {
   "cell_type": "markdown",
   "metadata": {
    "slideshow": {
     "slide_type": "subslide"
    }
   },
   "source": [
    "Full list of magics: https://github.com/Calysto/metakernel/blob/master/metakernel/magics/README.md"
   ]
  },
  {
   "cell_type": "code",
   "execution_count": 11,
   "metadata": {
    "collapsed": false,
    "slideshow": {
     "slide_type": "fragment"
    }
   },
   "outputs": [
    {
     "name": "stdout",
     "output_type": "stream",
     "text": [
      " System.out.println(\"Hello, World!\");\n",
      "Hello, World!\n",
      "\n",
      "\n"
     ]
    }
   ],
   "source": [
    "%run hello.java"
   ]
  },
  {
   "cell_type": "markdown",
   "metadata": {
    "slideshow": {
     "slide_type": "slide"
    }
   },
   "source": [
    "## 8.1 Parallel Computation"
   ]
  },
  {
   "cell_type": "markdown",
   "metadata": {
    "slideshow": {
     "slide_type": "fragment"
    }
   },
   "source": [
    "Start a cluster:\n",
    "\n",
    "<img src=\"images/cluster.png\"/>"
   ]
  },
  {
   "cell_type": "code",
   "execution_count": 1,
   "metadata": {
    "collapsed": false,
    "slideshow": {
     "slide_type": "fragment"
    }
   },
   "outputs": [],
   "source": [
    "%parallel javakernel.kernel JavaKernel"
   ]
  },
  {
   "cell_type": "code",
   "execution_count": 2,
   "metadata": {
    "collapsed": false,
    "slideshow": {
     "slide_type": "fragment"
    }
   },
   "outputs": [
    {
     "data": {
      "text/plain": [
       "[20, 22, 13, 85, 99]"
      ]
     },
     "execution_count": 2,
     "metadata": {},
     "output_type": "execute_result"
    }
   ],
   "source": [
    "%%px \n",
    "\n",
    "import java.util.Random;\n",
    "Random randomGenerator = new Random();\n",
    "randomGenerator.nextInt(100);"
   ]
  },
  {
   "cell_type": "markdown",
   "metadata": {
    "slideshow": {
     "slide_type": "slide"
    }
   },
   "source": [
    "## 8.2 Language Interop"
   ]
  },
  {
   "cell_type": "code",
   "execution_count": 12,
   "metadata": {
    "collapsed": false,
    "slideshow": {
     "slide_type": "fragment"
    }
   },
   "outputs": [
    {
     "data": {
      "text/plain": [
       "<calysto_scheme.kernel.CalystoScheme object at 0x7f20391e4b00>"
      ]
     },
     "execution_count": 12,
     "metadata": {},
     "output_type": "execute_result"
    }
   ],
   "source": [
    "%kernel calysto_scheme.kernel CalystoScheme"
   ]
  },
  {
   "cell_type": "code",
   "execution_count": 15,
   "metadata": {
    "collapsed": false,
    "slideshow": {
     "slide_type": "fragment"
    }
   },
   "outputs": [
    {
     "name": "stdout",
     "output_type": "stream",
     "text": [
      "13"
     ]
    }
   ],
   "source": [
    "%%kx \n",
    "\n",
    "(define fib\n",
    "   (lambda (n)\n",
    "      (if (< n 3)\n",
    "          1\n",
    "          (+ (fib (- n 1))\n",
    "             (fib (- n 2))))))\n",
    " (display (fib 7))"
   ]
  },
  {
   "cell_type": "code",
   "execution_count": 3,
   "metadata": {
    "collapsed": false,
    "slideshow": {
     "slide_type": "fragment"
    }
   },
   "outputs": [
    {
     "data": {
      "text/html": [
       "\n",
       "<canvas id=\"canvas_1\"></canvas>\n",
       "<script>\n",
       "require([window.location.protocol + \"//calysto.github.io/javascripts/processing/processing.js\"], function () {\n",
       "    var processingCode = '\\nvoid draw() {\\n    rect(mouseX, mouseY, 10, 10);\\n}';\n",
       "    var cc = Processing.compile(processingCode);\n",
       "    var processingInstance = new Processing(\"canvas_1\", cc);\n",
       "});\n",
       "</script>\n"
      ],
      "text/plain": [
       "<IPython.core.display.HTML object>"
      ]
     },
     "metadata": {},
     "output_type": "display_data"
    }
   ],
   "source": [
    "%%processing\n",
    "\n",
    "void draw() {\n",
    "    rect(mouseX, mouseY, 10, 10);\n",
    "}"
   ]
  },
  {
   "cell_type": "markdown",
   "metadata": {
    "slideshow": {
     "slide_type": "slide"
    }
   },
   "source": [
    "# 9. Libraries"
   ]
  },
  {
   "cell_type": "markdown",
   "metadata": {},
   "source": [
    "* Calysto - for IPython _and_ MetaKernel \n",
    "  * calytso.graphics - SVG, Processing, with pixel access too\n",
    "  * calytso.zgraphics - Zelle's \"Programming Python\" graphical library API\n",
    "  * calysto.simulation - for Agent Based Modeling\n",
    "  * calysto.ai - neural networks, genetic algorithms, etc.\n",
    "* jyro - robots"
   ]
  },
  {
   "cell_type": "markdown",
   "metadata": {
    "slideshow": {
     "slide_type": "slide"
    }
   },
   "source": [
    "# 10. Customizations"
   ]
  },
  {
   "cell_type": "markdown",
   "metadata": {},
   "source": [
    "* <a href=\"https://athena.brynmawr.edu/jupyter/user/dblank/notebooks/Take%20Poll.ipynb\">Audience Participation System</a> (clickers)\n",
    "* <a href=\"https://athena.brynmawr.edu/jupyter/user/dblank/notebooks/public_html/BioCS/notebooks/Lab01.ipynb\">Simulation</a>\n",
    "* <a href=\"https://athena.brynmawr.edu/jupyter/user/dblank/notebooks/public_html/CS110%20Intro%20to%20Computing/2015-Fall/Notes/Java%20and%20Tutor.ipynb#\">Python Online Tutor</a> - for Java and Python\n",
    "* <a href=\"/jupyter/user/dblank/notebooks/public_html/CS110%20Intro%20to%20Computing/2015-Fall/Notes/JeopardyMidtermReview.ipynb\">Jeopardy</a> - Processing CSV-based game for review sessions"
   ]
  },
  {
   "cell_type": "markdown",
   "metadata": {
    "slideshow": {
     "slide_type": "slide"
    }
   },
   "source": [
    "# 11. Challenges"
   ]
  },
  {
   "cell_type": "markdown",
   "metadata": {},
   "source": [
    "Low-hanging fruit:\n",
    "\n",
    "* \"no undo\"\n",
    "* Make the notebook interface as easy to use as Google Docs\n",
    "\n",
    "Issues:\n",
    "\n",
    "* Overheard: \"Jupyter is too convenient\" for the student\n",
    "* Some fellow CS educators hate Jupyter as an IDE\n",
    "  * Twitter this week: \"Ipython4experts, not4students\"\n",
    "  * \"within 1 hour later, indecipherable errors and broken notebooks\"\n",
    "  * It _is_ different, I say better. How to migrate educators?"
   ]
  }
 ],
 "metadata": {
  "celltoolbar": "Slideshow",
  "kernelspec": {
   "display_name": "Java 9",
   "language": "java",
   "name": "java"
  },
  "language_info": {
   "file_extension": ".class",
   "mimetype": "application/java-vm",
   "name": "java"
  }
 },
 "nbformat": 4,
 "nbformat_minor": 0
}
