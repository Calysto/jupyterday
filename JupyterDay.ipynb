{
 "cells": [
  {
   "cell_type": "markdown",
   "metadata": {
    "slideshow": {
     "slide_type": "slide"
    }
   },
   "source": [
    "# JupyterDay\n",
    "\n",
    "## Changing Education with Jupyter\n",
    "\n",
    "### Douglas Blank, Bryn Mawr College\n",
    "\n",
    "Have been working on languages, programming, environments, and education with colleagues for 20 years. \n",
    "\n",
    "* Laura Blankenship, The Baldwin School\n",
    "* Keith O'Hara, Bard College\n",
    "* Jennie Kay, Rowan University\n",
    "* Jim Marshall, Sarah Lawrence College\n",
    "* Mark Russo, The College of New Jersey\n",
    "* Steven Silvester (aka blink1073), Continuum Analytics"
   ]
  },
  {
   "cell_type": "markdown",
   "metadata": {
    "slideshow": {
     "slide_type": "slide"
    }
   },
   "source": [
    "# @dougblank \n",
    "\n",
    "* BA, Anthropology; PhD in Cognitive Science and Computer Science (Indiana University)\n",
    "* Thesis: Neural Network that learns to make Analogies\n",
    "* Developmental Robotics\n",
    "* Robots + Python + Learning for Undergraduate Research "
   ]
  },
  {
   "cell_type": "markdown",
   "metadata": {
    "slideshow": {
     "slide_type": "slide"
    }
   },
   "source": [
    "# Calico, 2006 - 2013\n",
    "\n",
    "* Robots for Introduction to Computing, Bryn Mawr College and GATech\n",
    "* Write a library once; use by many languages\n",
    "* IDE, languages, and libraries written in Gtk and Mono/.NET\n",
    "* Python, Jigsaw, Scheme, Ruby, Basic, Logo, Java, F#, Boo, etc.\n",
    "  * IKVM - use JVM in .NET/Mono (CLR)\n",
    "  * Java interpreter, written in Java, run in CLR\n",
    "  * Scheme written in Scheme, translated into C#\n",
    "  * Robot OS (ROS) built in - drones, humanoids, or Scribblers\n",
    "  * Used by many schools and groups (such as Girls who Code in NYC)\n",
    "  \n",
    "<img src=\"http://calicoproject.org/wiki/images/6/6b/CalicoWindow.gif\" width=\"600\"/>\n",
    "\n",
    "<img src=\"http://calicoproject.org/wiki/images/e/e4/Scrib2.jpg\" width=\"600\"/>"
   ]
  },
  {
   "cell_type": "markdown",
   "metadata": {
    "slideshow": {
     "slide_type": "slide"
    }
   },
   "source": [
    "# ICalico, 2013\n",
    "\n",
    "* Turned Calico into a IPython kernel (backend), written in C#\n",
    "* Implemented widgets before I ever used one\n",
    "* Problems:\n",
    "  * No numpy, matplotlib, nor any of the \"batteries included\"\n",
    "  * No magics; had to re-implement\n",
    "  * Too hard!\n",
    "* But I loved the notebook experience... but why?"
   ]
  },
  {
   "cell_type": "markdown",
   "metadata": {
    "slideshow": {
     "slide_type": "fragment"
    }
   },
   "source": [
    "...So we decided to re-implement many of our ideas, but in Python rather than in the CLR"
   ]
  },
  {
   "cell_type": "markdown",
   "metadata": {
    "slideshow": {
     "slide_type": "slide"
    }
   },
   "source": [
    "# Calysto, 2013 - future\n",
    "\n",
    "* Extensions\n",
    "* Languages\n",
    "* Libraries\n",
    "* Customizations\n",
    "\n"
   ]
  },
  {
   "cell_type": "markdown",
   "metadata": {
    "slideshow": {
     "slide_type": "slide"
    }
   },
   "source": [
    "# nbextensions\n",
    "\n",
    "<img src=\"images/nbextensions.png\" width=\"500\"/>\n",
    "\n",
    "* Publish\n",
    "* Submit\n",
    "* Spelling Checker\n",
    "* Move Section Up/Down\n",
    "* Number Sections\n",
    "* Table of Contents\n",
    "* Generate References\n",
    "* Tabbed In/Out\n",
    "* Two-column In/Out"
   ]
  },
  {
   "cell_type": "markdown",
   "metadata": {
    "slideshow": {
     "slide_type": "slide"
    }
   },
   "source": [
    "# Languages\n",
    "\n",
    "* Scheme, converted to Python\n",
    "* Processing\n",
    "* Assembly Language\n",
    "* Jigsaw (Blockly-based) for Java and Python\n",
    "* Java9, via JShell"
   ]
  },
  {
   "cell_type": "markdown",
   "metadata": {
    "slideshow": {
     "slide_type": "slide"
    }
   },
   "source": [
    "# MetaKernel\n",
    "\n",
    "Gives other kernels some of the magic that IPython has. Uses \"wrapper kernel\" Python infrastructure, even for non-Python-based languages. Now available for IPython, too!\n",
    "\n",
    "* Shell\n",
    "* Magics\n",
    "  * Separated from language; language independent\n",
    "  * download, run, macro, load, edit, \n",
    "  * Integration with other languages\n",
    "  * Parallel processing\n",
    "* Completion, Help, etc.\n",
    "\n",
    "Used with Octave, Matlab, Scheme, Prolog, Processing, Java9, ROOT, Gentoo Science Bash, Cling, etc."
   ]
  },
  {
   "cell_type": "markdown",
   "metadata": {
    "slideshow": {
     "slide_type": "slide"
    }
   },
   "source": [
    "## Parallel Computation"
   ]
  },
  {
   "cell_type": "code",
   "execution_count": 1,
   "metadata": {
    "collapsed": false,
    "slideshow": {
     "slide_type": "fragment"
    }
   },
   "outputs": [],
   "source": [
    "%parallel javakernel.kernel JavaKernel"
   ]
  },
  {
   "cell_type": "code",
   "execution_count": 2,
   "metadata": {
    "collapsed": false,
    "slideshow": {
     "slide_type": "fragment"
    }
   },
   "outputs": [
    {
     "data": {
      "text/plain": [
       "[20, 22, 13, 85, 99]"
      ]
     },
     "execution_count": 2,
     "metadata": {},
     "output_type": "execute_result"
    }
   ],
   "source": [
    "%%px \n",
    "\n",
    "import java.util.Random;\n",
    "\n",
    "Random randomGenerator = new Random();\n",
    "\n",
    "randomGenerator.nextInt(100);"
   ]
  },
  {
   "cell_type": "code",
   "execution_count": 3,
   "metadata": {
    "collapsed": false,
    "slideshow": {
     "slide_type": "slide"
    }
   },
   "outputs": [
    {
     "data": {
      "text/html": [
       "\n",
       "<canvas id=\"canvas_1\"></canvas>\n",
       "<script>\n",
       "require([window.location.protocol + \"//calysto.github.io/javascripts/processing/processing.js\"], function () {\n",
       "    var processingCode = '\\nvoid draw() {\\n    rect(mouseX, mouseY, 10, 10);\\n}';\n",
       "    var cc = Processing.compile(processingCode);\n",
       "    var processingInstance = new Processing(\"canvas_1\", cc);\n",
       "});\n",
       "</script>\n"
      ],
      "text/plain": [
       "<IPython.core.display.HTML object>"
      ]
     },
     "metadata": {},
     "output_type": "display_data"
    }
   ],
   "source": [
    "%%processing\n",
    "\n",
    "void draw() {\n",
    "    rect(mouseX, mouseY, 10, 10);\n",
    "}"
   ]
  },
  {
   "cell_type": "markdown",
   "metadata": {
    "slideshow": {
     "slide_type": "slide"
    }
   },
   "source": [
    "# Libraries\n",
    "\n",
    "* Calysto\n",
    "  * calytso.graphics\n",
    "  * calytso.zgraphics\n",
    "  * calysto.simulation"
   ]
  },
  {
   "cell_type": "markdown",
   "metadata": {
    "slideshow": {
     "slide_type": "slide"
    }
   },
   "source": [
    "# Customizations\n",
    "\n",
    "* Audience Participation System (clickers)\n",
    "* Simulation"
   ]
  },
  {
   "cell_type": "markdown",
   "metadata": {
    "slideshow": {
     "slide_type": "slide"
    }
   },
   "source": [
    "# Why do I love Jupyter?\n",
    "\n",
    "1. Focus on the narrative, storytelling aspects of computing\n",
    "  * Connects CS, STEM, Digital Humanities, well, all of humanity\n",
    "  * Puts Computing on par with Reading, Writing, and Rithmetic\n",
    "1. Standard interface for all languages\n",
    "  * One less problem, for students and educators\n",
    "  * Makes it easy to switch or include\n",
    "1. Ability to micro-manage environment (libraries, languages, functionality)\n",
    "1. Allows \"Computing on Day 1\"\n",
    "  * Lessens anxiety before actual coding"
   ]
  }
 ],
 "metadata": {
  "celltoolbar": "Slideshow",
  "kernelspec": {
   "display_name": "Java 9",
   "language": "java",
   "name": "java"
  },
  "language_info": {
   "file_extension": ".class",
   "mimetype": "application/java-vm",
   "name": "java"
  }
 },
 "nbformat": 4,
 "nbformat_minor": 0
}
