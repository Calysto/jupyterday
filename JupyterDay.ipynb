{
 "cells": [
  {
   "cell_type": "markdown",
   "metadata": {
    "slideshow": {
     "slide_type": "slide"
    }
   },
   "source": [
    "# JupyterDay\n",
    "\n",
    "## Changing Education with Jupyter\n",
    "\n",
    "### Douglas Blank, Bryn Mawr College\n",
    "\n",
    "Have been working on languages, programming, environments, and education with colleagues for 20 years. \n",
    "\n",
    "* Laura Blankenship, The Baldwin School\n",
    "* Keith O'Hara, Bard College\n",
    "* Jennie Kay, Rowan University\n",
    "* Jim Marshall, Sarah Lawrence College\n",
    "* Mark Russo, The College of New Jersey"
   ]
  },
  {
   "cell_type": "markdown",
   "metadata": {
    "slideshow": {
     "slide_type": "slide"
    }
   },
   "source": [
    "# Background\n",
    "\n",
    "* BA, Anthropology; PhD in Cognitive Science and Computer Science (Indiana University)\n",
    "* Thesis: Neural Network that learns to make Analogies\n",
    "* Developmental Robotics\n",
    "* Robots + Python for Undergraduate Research "
   ]
  },
  {
   "cell_type": "markdown",
   "metadata": {
    "slideshow": {
     "slide_type": "slide"
    }
   },
   "source": [
    "# Calico\n",
    "\n",
    "* Robots for Introduction to Computing, Bryn Mawr College and GATech\n",
    "* Write a library once; use by many languages\n",
    "* IDE written in Gtk and Mono/.NET\n",
    "* Python, Jigsaw, Scheme, Ruby, Basic, Logo, Java, etc.\n",
    "  * IKVM - use JVM in .NET/Mono (CLR)\n",
    "  * Java interpreter, written in Java, run in CLR\n",
    "  * Scheme written in Scheme, translated into C#\n",
    "  * ROS built in - drones, humanoids, or Scribblers\n",
    "  \n",
    "<img src=\"http://calicoproject.org/wiki/images/6/6b/CalicoWindow.gif\" width=\"600\"/>"
   ]
  },
  {
   "cell_type": "markdown",
   "metadata": {
    "slideshow": {
     "slide_type": "slide"
    }
   },
   "source": [
    "# ICalico\n",
    "\n",
    "* Turned Calico into a IPython kernel (backend), written in C#\n",
    "* Implemented widgets before I ever used one\n",
    "* Too hard!\n",
    "* No numpy, matplotlib, or any of the \"batteries included\"\n"
   ]
  },
  {
   "cell_type": "markdown",
   "metadata": {
    "slideshow": {
     "slide_type": "subslide"
    }
   },
   "source": [
    "...So we decided to re-implement many of our ideas, but in Python"
   ]
  },
  {
   "cell_type": "code",
   "execution_count": null,
   "metadata": {
    "collapsed": true
   },
   "outputs": [],
   "source": []
  }
 ],
 "metadata": {
  "celltoolbar": "Slideshow",
  "kernelspec": {
   "display_name": "Python 3",
   "language": "python",
   "name": "python3"
  },
  "language_info": {
   "codemirror_mode": {
    "name": "ipython",
    "version": 3
   },
   "file_extension": ".py",
   "mimetype": "text/x-python",
   "name": "python",
   "nbconvert_exporter": "python",
   "pygments_lexer": "ipython3",
   "version": "3.4.3"
  }
 },
 "nbformat": 4,
 "nbformat_minor": 0
}
